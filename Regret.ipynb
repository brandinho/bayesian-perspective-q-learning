{
  "nbformat": 4,
  "nbformat_minor": 0,
  "metadata": {
    "colab": {
      "name": "Regret.ipynb",
      "provenance": [],
      "collapsed_sections": [],
      "authorship_tag": "ABX9TyM/opc3047IRpAFdy0L9hN7",
      "include_colab_link": true
    },
    "kernelspec": {
      "name": "python3",
      "display_name": "Python 3"
    }
  },
  "cells": [
    {
      "cell_type": "markdown",
      "metadata": {
        "id": "view-in-github",
        "colab_type": "text"
      },
      "source": [
        "<a href=\"https://colab.research.google.com/github/brandinho/Baysian-Q-Learning/blob/master/Regret.ipynb\" target=\"_parent\"><img src=\"https://colab.research.google.com/assets/colab-badge.svg\" alt=\"Open In Colab\"/></a>"
      ]
    },
    {
      "cell_type": "markdown",
      "metadata": {
        "id": "O8Gx2Kq4Gz4U",
        "colab_type": "text"
      },
      "source": [
        "# Evaluation of Q-Learning Algorithms\n",
        "\n",
        "We evaluate various Q-Learning algirithms by comparing their cumulative regret as training progresses. A lower and flatter curve indicates that the agent is better at solving the exploration vs exploitation problem."
      ]
    },
    {
      "cell_type": "code",
      "metadata": {
        "id": "aeeSPK7aLR64",
        "colab_type": "code",
        "colab": {}
      },
      "source": [
        "import numpy as np\n",
        "from math import erf\n",
        "from scipy.special import ndtri\n",
        "from tqdm import tqdm\n",
        "import matplotlib.pyplot as plt"
      ],
      "execution_count": 1,
      "outputs": []
    },
    {
      "cell_type": "markdown",
      "metadata": {
        "id": "yAJgYE3EHZrg",
        "colab_type": "text"
      },
      "source": [
        "First, we define our Q-Learning agent, which we call \"TabularAgent\" because we apply it to a tabular setting (Grid World). The agent is flexible enough to accomodate various Q-Learning approaches."
      ]
    },
    {
      "cell_type": "code",
      "metadata": {
        "id": "F0oy2L8yfy7S",
        "colab_type": "code",
        "colab": {}
      },
      "source": [
        "class TabularAgent():\n",
        "  def __init__(self, grid_template, starting_location, possible_actions, epsilon_greedy, epsilon_decay, \n",
        "               epsilon_decay_rate = 0.001, epsilon = 0.1, gamma = 0.99, alpha = 0.05, is_bayesian = True, \n",
        "               upper_confidence_bound = False, myopic_vpi = True):\n",
        "    self.position = starting_location\n",
        "    self.possible_actions = possible_actions\n",
        "    self.n_actions = len(self.possible_actions)\n",
        "    \n",
        "    starting_mean = 0\n",
        "    starting_var = 50\n",
        "    \n",
        "    height = grid_template.shape[0]\n",
        "    width = grid_template.shape[1]\n",
        "\n",
        "    self.Q_table_mean = {}\n",
        "    self.Q_table_var = {}\n",
        "    self.reward_variance_tracker = {}\n",
        "    for x in range(width):\n",
        "      for y in range(height):\n",
        "        for action in self.possible_actions:\n",
        "          current_key = self.key_format((y, x), action)\n",
        "          self.Q_table_mean[current_key] = starting_mean\n",
        "          self.Q_table_var[current_key] = starting_var\n",
        "          self.reward_variance_tracker[current_key] = {\"variance\": 0, \"mean\": None, \"SSE\": 0, \"idx\": 0}\n",
        "\n",
        "    self.epsilon_greedy = epsilon_greedy\n",
        "    self.epsilon_decay = epsilon_decay\n",
        "    self.epsilon_decay_rate = epsilon_decay_rate\n",
        "    self.epsilon = epsilon\n",
        "    self.gamma = gamma\n",
        "    self.alpha = alpha\n",
        "    \n",
        "    self.is_bayesian = is_bayesian\n",
        "    self.upper_confidence_bound = upper_confidence_bound\n",
        "    self.myopic_vpi = myopic_vpi\n",
        "    self.episode = 0\n",
        "        \n",
        "  @staticmethod\n",
        "  def key_format(position, action):\n",
        "    return \"{} {}\".format(position, action)   \n",
        "\n",
        "  @staticmethod\n",
        "  def softmax(x):\n",
        "    return np.exp(x) / np.sum(np.exp(x))\n",
        "\n",
        "  @staticmethod\n",
        "  def phi(x, mu, sigma):\n",
        "      \"Much faster computation compared to scipy.stats norm.cdf\"\n",
        "      return (1 + erf((x - mu) / sigma / np.sqrt(2))) / 2\n",
        "  \n",
        "  @staticmethod\n",
        "  def phi_inverse(alpha):\n",
        "      return ndtri(alpha)\n",
        "  \n",
        "  @staticmethod\n",
        "  def lower_phi(y):\n",
        "      return (1 / np.sqrt(2 * np.pi)) * np.exp(-y**2/2)\n",
        "  \n",
        "  def expected_value(self, mu, sigma, upper_bound = None, lower_bound = None):\n",
        "      \"Much faster computation compared to scipy.stats norm.expect\"\n",
        "      assert upper_bound is not None or lower_bound is not None\n",
        "      if upper_bound is not None:\n",
        "          alpha = 1 - self.phi(upper_bound, mu, sigma)\n",
        "          direction = -1\n",
        "      elif lower_bound is not None:\n",
        "          alpha = self.phi(lower_bound, mu, sigma)\n",
        "          direction = 1\n",
        "          \n",
        "      if alpha == 1:\n",
        "          return 0\n",
        "      elif alpha == 0:\n",
        "          return mu\n",
        "      else:\n",
        "          return (mu + direction * sigma * ((self.lower_phi(self.phi_inverse(alpha))) / (1 - alpha))) * (1 - alpha)        \n",
        "\n",
        "  def get_myopic_vpi(self, a, best_action, second_best_action):\n",
        "      current_mu = self.Q_table_mean[self.key_format(self.position, a)]\n",
        "      current_sigma = np.sqrt(self.Q_table_var[self.key_format(self.position, a)])\n",
        "      if a == best_action:\n",
        "          second_best_mu = self.Q_table_mean[self.key_format(self.position, second_best_action)]\n",
        "          probability_of_gain = self.phi(second_best_mu, current_mu, current_sigma)\n",
        "          expected_better_value = self.expected_value(current_mu, current_sigma, upper_bound = second_best_mu)\n",
        "          vpi = second_best_mu * probability_of_gain - expected_better_value\n",
        "      else:\n",
        "          best_mu = self.Q_table_mean[self.key_format(self.position, best_action)]\n",
        "          probability_of_gain = 1 - self.phi(best_mu, current_mu, current_sigma)\n",
        "          expected_better_value = self.expected_value(current_mu, current_sigma, lower_bound = best_mu)\n",
        "          vpi = expected_better_value - best_mu * probability_of_gain\n",
        "      return vpi\n",
        "\n",
        "  def update_reward_variance(self, state, action, reward):\n",
        "    key = self.key_format(state, action)\n",
        "    self.reward_variance_tracker[key][\"idx\"] += 1\n",
        "    idx = self.reward_variance_tracker[key][\"idx\"]\n",
        "    if self.reward_variance_tracker[key][\"mean\"] is None:\n",
        "      self.reward_variance_tracker[key][\"mean\"] = reward\n",
        "    error = reward - self.reward_variance_tracker[key][\"mean\"]\n",
        "    \n",
        "    self.reward_variance_tracker[key][\"mean\"] += error / (idx + 1)\n",
        "    self.reward_variance_tracker[key][\"SSE\"] += error * (reward - self.reward_variance_tracker[key][\"mean\"])\n",
        "    self.reward_variance_tracker[key][\"variance\"] = self.reward_variance_tracker[key][\"SSE\"] / (idx + 1)\n",
        "\n",
        "  def sample_Q(self, key):\n",
        "    return np.random.normal(loc = self.Q_table_mean[key], scale = np.sqrt(self.Q_table_var[key]))\n",
        "\n",
        "  def get_action(self, stochastic = True):\n",
        "    action = np.zeros(self.n_actions)\n",
        "    if stochastic and self.is_bayesian:\n",
        "      if self.upper_confidence_bound:\n",
        "        Qvalue_list = [self.Q_table_mean[self.key_format(self.position, a)] + np.sqrt(self.Q_table_var[self.key_format(self.position, a)]) * 2 for a in self.possible_actions]\n",
        "      elif self.myopic_vpi:\n",
        "        Q_means = [self.Q_table_mean[self.key_format(self.position, a)]for a in self.possible_actions]\n",
        "        best_action = self.possible_actions[np.argmax(Q_means)]\n",
        "        second_best_action = self.possible_actions[np.argsort(Q_means)[-2]]\n",
        "        Qvalue_list = [self.Q_table_mean[self.key_format(self.position, a)] + self.get_myopic_vpi(a, best_action, second_best_action) for a in self.possible_actions]        \n",
        "      else:\n",
        "        Qvalue_list = [self.sample_Q(self.key_format(self.position, a)) for a in self.possible_actions]\n",
        "    elif stochastic and self.epsilon_greedy and np.random.rand() < self.epsilon:\n",
        "      Qvalue_list = np.random.normal(size = len(self.possible_actions))\n",
        "    else:\n",
        "      Qvalue_list = [self.Q_table_mean[self.key_format(self.position, a)] for a in self.possible_actions]\n",
        "    action[np.argmax(Qvalue_list)] = 1\n",
        "    return action\n",
        "  \n",
        "  def change_position(self, current_position, direction):\n",
        "    if direction == \"Left\":\n",
        "      current_position = (current_position[0], current_position[1] - 1)\n",
        "    elif direction == \"Right\":\n",
        "      current_position = (current_position[0], current_position[1] + 1)\n",
        "    elif direction == \"Up\":\n",
        "      current_position = (current_position[0] - 1, current_position[1])\n",
        "    elif direction == \"Down\":\n",
        "      current_position = (current_position[0] + 1, current_position[1])\n",
        "    return current_position\n",
        "\n",
        "  def move(self, action):\n",
        "    self.position = self.change_position(self.position, action)\n",
        "    return self.position        \n",
        "      \n",
        "  def learn(self, state, action, reward, next_state):\n",
        "    # Lookahead Mean\n",
        "    old_Q_value_mean = self.Q_table_mean[self.key_format(state, action)]\n",
        "    next_action = self.possible_actions[np.argmax([self.Q_table_mean[self.key_format(next_state, a)] for a in self.possible_actions])]\n",
        "    next_Q_value_mean = self.Q_table_mean[self.key_format(next_state, next_action)]\n",
        "    lookahead_Q_value_mean = reward + self.gamma * next_Q_value_mean\n",
        "    \n",
        "    if self.is_bayesian:\n",
        "      # Lookahead Variance\n",
        "      self.update_reward_variance(state, action, reward)\n",
        "      reward_var = self.reward_variance_tracker[self.key_format(state, action)][\"variance\"]\n",
        "      old_Q_value_var = self.Q_table_var[self.key_format(state, action)] + 0.001 # The constant prevents the agent's uncertainty from going to 0 (philosophically we don't believe it should ever reach 0)\n",
        "      next_Q_value_var = self.Q_table_var[self.key_format(next_state, next_action)]\n",
        "      lookahead_Q_value_var = reward_var + self.gamma * next_Q_value_var            \n",
        "    \n",
        "    # Update Mean and Variance\n",
        "    if self.is_bayesian:\n",
        "      alpha = old_Q_value_var / (old_Q_value_var + lookahead_Q_value_var)\n",
        "    else:\n",
        "      alpha = self.alpha\n",
        "    Q_key = self.key_format(state, action)\n",
        "    self.Q_table_mean[Q_key] = (1 - alpha) * old_Q_value_mean + alpha * lookahead_Q_value_mean\n",
        "    if self.is_bayesian:\n",
        "      self.Q_table_var[Q_key] = alpha * lookahead_Q_value_var\n"
      ],
      "execution_count": 8,
      "outputs": []
    },
    {
      "cell_type": "markdown",
      "metadata": {
        "id": "GUM0O05DHrvN",
        "colab_type": "text"
      },
      "source": [
        "Next, we want to create the environment for the agent to navigate through. If you are feeling adventurous, you can change the location of the danger zone and the parameters of the reward distributions! We initially named the danger zone the \"random forest\" because the rewards that the agent received were largely unknown... and also we thought it was a clever play on words... But in the paper, we ultimately decided to call it the danger zone to avoid confusion."
      ]
    },
    {
      "cell_type": "code",
      "metadata": {
        "id": "QDaIqouIfii7",
        "colab_type": "code",
        "colab": {}
      },
      "source": [
        "class Environment():\n",
        "  def __init__(self, agent_inputs, height, width):        \n",
        "    assert width > 2 and height > 2        \n",
        "    self.height = height\n",
        "    self.width = width\n",
        "    self.grid_template = np.zeros((self.height, self.width))\n",
        "    self.state_visitations = self.grid_template.copy()\n",
        "    self.danger_probability = 0.1\n",
        "    \n",
        "    ### Define the area for the danger zone\n",
        "    self.height_anchor = 1\n",
        "    self.height_offset = 3\n",
        "    self.width_anchor = 1\n",
        "    self.width_offset = 2\n",
        "    \n",
        "    self.dangerY_range = range(self.height_anchor, self.height_anchor + self.height_offset)\n",
        "    self.dangerX_range = range(self.width_anchor, self.width_anchor + self.width_offset)\n",
        "    self.dangerY_len, self.dangerX_len = len(self.dangerY_range), len(self.dangerX_range)\n",
        "    \n",
        "    ### Define some important locations\n",
        "    self.starting_location = (0, 0)\n",
        "    self.goal_location = (0, self.width-1)\n",
        "    self.cliff_locations = np.array([(0, cliff) for cliff in range(1, self.width-1)])\n",
        "    \n",
        "    ### Define some rewards\n",
        "    self.goal_reward = 50\n",
        "    self.cliff_reward = -50\n",
        "    self.roaming_loc, self.roaming_scale = -2, 2\n",
        "    self.danger_loc, self.danger_scale = -15, 15\n",
        "    self.regret_baseline = self.roaming_loc * 16 + self.goal_reward\n",
        "    \n",
        "    ### Addign the rewards to the grid\n",
        "    self.set_default_grid_rewards()\n",
        "    self.cumulative_rewards = 0\n",
        "    self.cumulative_expected_rewards = 0\n",
        "    self.n_moves = 0\n",
        "    self.max_moves = self.height * self.width\n",
        "\n",
        "    self.vertical_min, self.vertical_max = 0, self.height-1\n",
        "    self.horizontal_min, self.horizontal_max = 0, self.width-1\n",
        "    self.possible_actions = np.array([\"Left\", \"Right\", \"Up\", \"Down\"])\n",
        "\n",
        "    self.agent = TabularAgent(self.grid_template, self.starting_location, self.possible_actions, \n",
        "                              agent_inputs[\"Epsilon-Greedy\"], agent_inputs[\"Epsilon Decay\"], \n",
        "                              agent_inputs[\"Epsilon Decay Rate\"], agent_inputs[\"Epsilon\"], \n",
        "                              agent_inputs[\"Gamma\"], agent_inputs[\"Alpha\"], agent_inputs[\"Bayesian\"], \n",
        "                              agent_inputs[\"Upper Confidence Bound\"], agent_inputs[\"Myopic-VPI\"])\n",
        "    self.nullify_gameover_Q_values()\n",
        "      \n",
        "  def nullify_gameover_Q_values(self):\n",
        "    for a in self.possible_actions:\n",
        "      key = self.agent.key_format(self.goal_location, a)\n",
        "      self.agent.Q_table_mean[key] = 0\n",
        "      self.agent.Q_table_var[key] = 1\n",
        "\n",
        "  def set_default_grid_rewards(self):\n",
        "    self.grid_rewards = self.grid_template.copy()\n",
        "    self.grid_rewards[:] = np.random.normal(self.roaming_loc, self.roaming_scale, size = self.height * self.width).reshape(self.height, self.width)\n",
        "    self.grid_rewards[self.goal_location] = self.goal_reward\n",
        "    self.grid_rewards[tuple(self.cliff_locations.T)] = self.cliff_reward       \n",
        "      \n",
        "  def set_random_cliffs(self):\n",
        "    danger_conditional = np.ones_like(self.grid_template)        \n",
        "    random_numbers = np.random.rand(self.dangerY_len * self.dangerX_len).reshape(self.dangerY_len, self.dangerX_len)\n",
        "    danger_conditional[self.dangerY_range[0]:self.dangerY_range[-1]+1, self.dangerX_range[0]:self.dangerX_range[-1]+1] = random_numbers\n",
        "    self.grid_rewards[danger_conditional < self.danger_probability] = self.cliff_reward\n",
        "\n",
        "  def set_random_forest_rewards(self):\n",
        "    random_rewards = np.random.normal(loc = self.danger_loc, scale = self.danger_scale, size = self.height_offset * self.width_offset)\n",
        "    random_rewards = random_rewards.reshape(self.height_offset, self.width_offset)\n",
        "    self.grid_rewards[self.dangerY_range[0]:self.dangerY_range[-1]+1, \n",
        "                      self.dangerX_range[0]:self.dangerX_range[-1]+1] = random_rewards\n",
        "\n",
        "  @staticmethod\n",
        "  def onehot_to_index(onehot):\n",
        "    return np.where(onehot==1)[0][0]  \n",
        "  \n",
        "  def check_valid_action(self, action_onehot):\n",
        "    assert len(action_onehot) == len(self.possible_actions)\n",
        "    action = self.possible_actions[self.onehot_to_index(action_onehot)]\n",
        "    valid_action = True\n",
        "    if action == \"Left\":\n",
        "      if self.agent.position[1] == 0:\n",
        "        valid_action = False\n",
        "    elif action == \"Right\":\n",
        "      if self.agent.position[1] == self.width - 1:\n",
        "        valid_action = False\n",
        "    elif action == \"Up\":\n",
        "      if self.agent.position[0] == 0:\n",
        "        valid_action = False\n",
        "    elif action == \"Down\":\n",
        "      if self.agent.position[0] == self.height - 1:\n",
        "        valid_action = False\n",
        "    return valid_action, action\n",
        "\n",
        "  def move(self, stochastic = True, verbose = False, learn = True):\n",
        "    state = self.agent.position\n",
        "    self.state_visitations[state[0], state[1]] += 1\n",
        "    action_onehot = self.agent.get_action(stochastic)\n",
        "    valid_action, action = self.check_valid_action(action_onehot)\n",
        "    if valid_action:            \n",
        "      next_state = self.agent.move(action)\n",
        "    else:\n",
        "      next_state = self.agent.position\n",
        "    self.n_moves += 1\n",
        "    \n",
        "    ### Reset the rewards/punishments in the random forest\n",
        "    self.set_default_grid_rewards()\n",
        "    self.set_random_forest_rewards()\n",
        "        \n",
        "    reward = self.grid_rewards[next_state]\n",
        "    self.cumulative_rewards += reward\n",
        "    if next_state == self.goal_location:\n",
        "      self.cumulative_expected_rewards += self.goal_reward\n",
        "    elif next_state in self.cliff_locations.tolist():\n",
        "      self.cumulative_expected_rewards += self.cliff_reward\n",
        "    elif (next_state[0] >= self.dangerY_range[0] and next_state[0] < self.dangerY_range[-1] and\n",
        "          next_state[1] >= self.dangerX_range[0] and next_state[1] < self.dangerX_range[-1]):\n",
        "      self.cumulative_expected_rewards += self.danger_loc\n",
        "    else:\n",
        "      self.cumulative_expected_rewards += self.roaming_loc\n",
        "    \n",
        "    if learn:\n",
        "      self.agent.learn(state, action, reward, next_state)  \n",
        "\n",
        "    done_game = False\n",
        "    if self.agent.position == self.goal_location:\n",
        "      game_end_text = \"You won the game!! Congratz!\"\n",
        "      done_game = True\n",
        "    if any([self.agent.position == tuple(cliff) for cliff in self.cliff_locations]):\n",
        "      game_end_text = \"You fell off the cliff!\"\n",
        "      done_game = True\n",
        "    if self.n_moves >= self.max_moves:\n",
        "      game_end_text = \"You timed out!\"\n",
        "      done_game = True\n",
        "        \n",
        "    if done_game:\n",
        "      self.state_visitations[next_state[0], next_state[1]] += 1\n",
        "      if self.agent.epsilon_decay:\n",
        "        self.agent.epsilon = max(0.02, self.agent.epsilon - self.agent.epsilon_decay_rate)\n",
        "      if verbose:\n",
        "        print(game_end_text)\n",
        "    return done_game        \n",
        "  \n",
        "  def reset(self):\n",
        "    self.agent.position = self.starting_location\n",
        "    self.cumulative_rewards = 0\n",
        "    self.cumulative_expected_rewards = 0\n",
        "    self.n_moves = 0\n",
        "    self.agent.episode += 1\n",
        "\n",
        "  def update_environment_visualization(self, ax):\n",
        "    self.env_map.set_data(self.grid_rewards)"
      ],
      "execution_count": 3,
      "outputs": []
    },
    {
      "cell_type": "markdown",
      "metadata": {
        "id": "oP6YT_q0In3V",
        "colab_type": "text"
      },
      "source": [
        "Below is the training loop that records cumulative regret"
      ]
    },
    {
      "cell_type": "code",
      "metadata": {
        "id": "hmbXaEusn0g2",
        "colab_type": "code",
        "colab": {}
      },
      "source": [
        "def get_regret_from_training(env, episodes, label):\n",
        "  total_returns = []\n",
        "  cumulative_regret = []\n",
        "  for e in tqdm(range(episodes)):\n",
        "    env.reset()\n",
        "    done_game = False\n",
        "    while not done_game:\n",
        "      done_game = env.move()\n",
        "    total_returns.append(env.cumulative_rewards)\n",
        "    cumulative_regret.append(env.regret_baseline - env.cumulative_expected_rewards)\n",
        "  plt.plot(np.cumsum(cumulative_regret), label = label)"
      ],
      "execution_count": 4,
      "outputs": []
    },
    {
      "cell_type": "markdown",
      "metadata": {
        "id": "p-h0Q89Nnwcw",
        "colab_type": "text"
      },
      "source": [
        "Define a function to get model parameters given the chosen model (mostly to clean up the code in the last section):"
      ]
    },
    {
      "cell_type": "code",
      "metadata": {
        "id": "dbp2nDQ9n1xi",
        "colab_type": "code",
        "colab": {}
      },
      "source": [
        "def get_model_parameters(model_name):\n",
        "  if \"Epsilon\" not in model_name:\n",
        "    is_bayesian = True\n",
        "    epsilon_greedy = False\n",
        "    epsilon_decay = False\n",
        "  else:\n",
        "    is_bayesian = False\n",
        "    epsilon_greedy = True\n",
        "    if \"Decay\" in model_name:\n",
        "      epsilon_decay = True\n",
        "    else:\n",
        "      epsilon_decay = False\n",
        "\n",
        "  if \"UCB\" in model_name:\n",
        "    upper_confidence_bound = True\n",
        "  else:\n",
        "    upper_confidence_bound = False\n",
        "\n",
        "  if \"Myopic-VPI\" in model_name:\n",
        "    myopic_vpi = True\n",
        "  else:\n",
        "    myopic_vpi = False\n",
        "\n",
        "  return epsilon_greedy, epsilon_decay, is_bayesian, upper_confidence_bound, myopic_vpi"
      ],
      "execution_count": 5,
      "outputs": []
    },
    {
      "cell_type": "markdown",
      "metadata": {
        "id": "y-MNsowFIufZ",
        "colab_type": "text"
      },
      "source": [
        "Define the parameters of the benchmark that you want to compare our approach against"
      ]
    },
    {
      "cell_type": "code",
      "metadata": {
        "id": "pZek6vROKRjM",
        "colab_type": "code",
        "colab": {}
      },
      "source": [
        "benchmark_agent_inputs = {\n",
        "            \"Bayesian\": False, \n",
        "            \"Upper Confidence Bound\": False,  \n",
        "            \"Myopic-VPI\": False,\n",
        "            \"Epsilon-Greedy\": False, \n",
        "            \"Epsilon Decay\": False,\n",
        "            \"Epsilon\": 0.1, \n",
        "            \"Epsilon Decay Rate\": 0.0001,\n",
        "            \"Gamma\": 0.99, \n",
        "            \"Alpha\": 0.05\n",
        "        }"
      ],
      "execution_count": 6,
      "outputs": []
    },
    {
      "cell_type": "markdown",
      "metadata": {
        "id": "prLO5eSFI0LD",
        "colab_type": "text"
      },
      "source": [
        "Now, we're ready to play around with some parameters and see how our agent performs relative to any benchmark!!"
      ]
    },
    {
      "cell_type": "code",
      "metadata": {
        "id": "J62zyNvCm6Np",
        "colab_type": "code",
        "colab": {
          "base_uri": "https://localhost:8080/",
          "height": 317
        },
        "outputId": "b4187c00-4eb8-47c9-f133-f1bd71f225a2"
      },
      "source": [
        "#@title Play Around with the Parameters { form-width: \"400px\" }\n",
        "\n",
        "model_name = \"Myopic-VPI\" #@param [\"Epsilon-Greedy\", \"Epsilon-Greedy (Decay)\", \"Bayes-UCB\", \"Q-Value Sampling\", \"Myopic-VPI\"] {type:\"string\"}\n",
        "\n",
        "epsilon_greedy, epsilon_decay, is_bayesian, upper_confidence_bound, myopic_vpi = get_model_parameters(model_name)\n",
        "\n",
        "epsilon = 0.1 #@param {type:\"slider\", min:0, max:1, step:0.01}\n",
        "epsilon_decay_rate = 0.01 #@param {type:\"slider\", min:0.0001, max:0.01, step:0.0001}\n",
        "gamma = 0.99 #@param {type:\"slider\", min:0, max:1, step:0.01}\n",
        "alpha = 0.05 #@param {type:\"slider\", min:0, max:1, step:0.01}\n",
        "\n",
        "agent_inputs = {\n",
        "            \"Bayesian\": is_bayesian, \"Upper Confidence Bound\": upper_confidence_bound, \"Myopic-VPI\": myopic_vpi,\n",
        "            \"Epsilon-Greedy\": epsilon_greedy, \"Epsilon Decay\": epsilon_decay, \"Epsilon\": epsilon, \n",
        "            \"Epsilon Decay Rate\": epsilon_decay_rate, \"Gamma\": gamma, \"Alpha\": alpha\n",
        "        }\n",
        "\n",
        "env = Environment(benchmark_agent_inputs, height = 6, width = 10)\n",
        "get_regret_from_training(env, episodes = 5000, label = \"Benchmark\")\n",
        "\n",
        "env = Environment(agent_inputs, height = 6, width = 10)\n",
        "get_regret_from_training(env, episodes = 5000, label = \"Your Choice\")\n",
        "\n",
        "plt.legend()"
      ],
      "execution_count": 9,
      "outputs": [
        {
          "output_type": "stream",
          "text": [
            "100%|██████████| 5000/5000 [00:09<00:00, 532.46it/s]\n",
            "100%|██████████| 5000/5000 [00:18<00:00, 272.52it/s]\n"
          ],
          "name": "stderr"
        },
        {
          "output_type": "execute_result",
          "data": {
            "text/plain": [
              "<matplotlib.legend.Legend at 0x7f8ff8c79048>"
            ]
          },
          "metadata": {
            "tags": []
          },
          "execution_count": 9
        },
        {
          "output_type": "display_data",
          "data": {
            "image/png": "[encoded data removed]",
            "text/plain": [
              "<Figure size 432x288 with 1 Axes>"
            ]
          },
          "metadata": {
            "tags": [],
            "needs_background": "light"
          }
        }
      ]
    }
  ]
}