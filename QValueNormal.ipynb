{
  "nbformat": 4,
  "nbformat_minor": 0,
  "metadata": {
    "colab": {
      "name": "QValueNormal.ipynb",
      "provenance": [],
      "collapsed_sections": [],
      "authorship_tag": "ABX9TyNV3P8E0YbTqpfEjz6tIgI2",
      "include_colab_link": true
    },
    "kernelspec": {
      "name": "python3",
      "display_name": "Python 3"
    }
  },
  "cells": [
    {
      "cell_type": "markdown",
      "metadata": {
        "id": "view-in-github",
        "colab_type": "text"
      },
      "source": [
        "<a href=\"https://colab.research.google.com/github/brandinho/Baysian-Q-Learning/blob/master/QValueNormal.ipynb\" target=\"_parent\"><img src=\"https://colab.research.google.com/assets/colab-badge.svg\" alt=\"Open In Colab\"/></a>"
      ]
    },
    {
      "cell_type": "markdown",
      "metadata": {
        "id": "qtGuodBt2mVl",
        "colab_type": "text"
      },
      "source": [
        "# Are Q-Values Normally Distributed?\n",
        "\n",
        "We explore the effect that $N$, $\\gamma$, and $\\xi$ have on the normality of the Q-value distribution."
      ]
    },
    {
      "cell_type": "code",
      "metadata": {
        "id": "T4cAYPsP1QPn",
        "colab_type": "code",
        "cellView": "both",
        "colab": {}
      },
      "source": [
        "# Import Packages\n",
        "\n",
        "import numpy as np\n",
        "import seaborn as sns\n",
        "import matplotlib.pyplot as plt\n",
        "from scipy.stats import skewnorm, bernoulli, shapiro, normaltest, anderson"
      ],
      "execution_count": 13,
      "outputs": []
    },
    {
      "cell_type": "markdown",
      "metadata": {
        "id": "aMWzgI4-CzAT",
        "colab_type": "text"
      },
      "source": [
        "Below we create the functions to generate the underlying reward distribution (which we define as a skew normal distribution). We also create the functions to calculate the Q-values."
      ]
    },
    {
      "cell_type": "code",
      "metadata": {
        "id": "6fecP-i63VAz",
        "colab_type": "code",
        "colab": {}
      },
      "source": [
        "# Distribution Functions\n",
        "\n",
        "def generate_skew_data(loc, scale, skewness, n):\n",
        "  assert n > 0\n",
        "  return skewnorm.rvs(skewness, loc = loc, scale = scale, size = n)\n",
        "\n",
        "def generate_bernoulli_data(p, n):\n",
        "    assert n > 0\n",
        "    return bernoulli.rvs(p, size = n)\n",
        "\n",
        "def calculate_Q_value(rewards, gamma, sparsity):\n",
        "    assert gamma >= 0 and gamma <= 1\n",
        "    sparsity_offset = (sparsity + 1) // 2\n",
        "    sparse_rewards = np.zeros_like(rewards)\n",
        "    sparse_rewards[sparsity_offset::(sparsity + 1)] = rewards[sparsity_offset::(sparsity + 1)]\n",
        "    discount_factors = gamma**np.arange(sparse_rewards.shape[0])\n",
        "    return np.dot(sparse_rewards, discount_factors) / np.sum(discount_factors)\n",
        "\n",
        "def calculate_Q_value_array(all_data, sample_size, gamma, sparsity, iterations):\n",
        "  Q_values = []\n",
        "  i = 0\n",
        "  while len(Q_values) < iterations:\n",
        "    Q_values.append(calculate_Q_value(all_data[i:i+sample_size], gamma, sparsity))\n",
        "    i += sample_size\n",
        "  return np.array(Q_values)"
      ],
      "execution_count": 26,
      "outputs": []
    },
    {
      "cell_type": "markdown",
      "metadata": {
        "id": "HV3IwTAHDYN3",
        "colab_type": "text"
      },
      "source": [
        "We also have to create the function to run the statistical tests of normality, which we do below:"
      ]
    },
    {
      "cell_type": "code",
      "metadata": {
        "id": "3lhreS8y5kCI",
        "colab_type": "code",
        "colab": {}
      },
      "source": [
        "# Statistical Tests for Normality\n",
        "\n",
        "def print_normality_tests(Q_values, significance_level):\n",
        "  def normal_or_not(true_or_false):\n",
        "    if true_or_false:\n",
        "      return \"Normal\"\n",
        "    else:\n",
        "      return \"Non-Normal\"\n",
        "\n",
        "  assert significance_level > 0 and significance_level < 1\n",
        "  shapiro_stat, shapiro_p = shapiro(Q_values)\n",
        "  dagostino_stat, dagostino_p = normaltest(Q_values)\n",
        "  anderson_darling_test = anderson(Q_values)\n",
        "  anderson_critical = anderson_darling_test.critical_values[anderson_darling_test.significance_level == significance_level * 100][0]\n",
        "\n",
        "  print(\"Using Sample Size: {} and Gamma: {}\".format(sample_size, gamma))\n",
        "  print(\"The following statistical tests yield:\\n\")\n",
        "  \n",
        "  print(\"Shapiro-Wilk: {}\".format(normal_or_not(shapiro_p > significance_level)))\n",
        "  print(\"D'Agostino's K^2: {}\".format(normal_or_not(dagostino_p > significance_level)))\n",
        "  print(\"Anderson-Darling: {}\".format(normal_or_not(anderson_critical > anderson_darling_test.statistic)))\n",
        "\n",
        "  print(\"\\nThe statistical tests above use a {}% Confidence Interval\\n\".format((1-significance_level)*100))"
      ],
      "execution_count": 27,
      "outputs": []
    },
    {
      "cell_type": "markdown",
      "metadata": {
        "id": "WYO4Mor1Ddhn",
        "colab_type": "text"
      },
      "source": [
        "Our last function we create is to plot the underlying reward distribution and the Q-value distribution."
      ]
    },
    {
      "cell_type": "code",
      "metadata": {
        "id": "DZf6iN2s9xeo",
        "colab_type": "code",
        "cellView": "code",
        "colab": {}
      },
      "source": [
        "# Plotting Functions\n",
        "\n",
        "def plot_distributions(underlying_distribution, Q_values):\n",
        "  sns.distplot(underlying_distribution, hist = False, kde_kws={\"shade\": True}, label = \"Underlying (Dense) Distribution\")\n",
        "  sns.distplot(Q_values, hist = False, kde_kws={\"shade\": True}, label = \"Q-value Distribution\")\n",
        "  plt.legend()"
      ],
      "execution_count": 24,
      "outputs": []
    },
    {
      "cell_type": "markdown",
      "metadata": {
        "id": "YJO0IMtyDj_-",
        "colab_type": "text"
      },
      "source": [
        "Now, we're ready to play around with some parameters and see under which conditions Q-values are normally distributed!!"
      ]
    },
    {
      "cell_type": "code",
      "metadata": {
        "id": "PcTNtJSo3JcC",
        "colab_type": "code",
        "colab": {
          "base_uri": "https://localhost:8080/",
          "height": 418
        },
        "cellView": "both",
        "outputId": "1c158946-3204-4768-8b16-3ccb2a6cd48b"
      },
      "source": [
        "#@title Play Around with the the Parameters { form-width: \"400px\" }\n",
        "# Set underlying distribution parameters\n",
        "underlying_distribution = \"Bernoulli\" #@param [\"Skew-Normal\", \"Bernoulli\"]\n",
        "\n",
        "if underlying_distribution == \"Skew-Normal\":\n",
        "  loc = 0 #@param {type:\"number\"}\n",
        "  scale = 2 #@param {type:\"number\"}\n",
        "  skewness =  5#@param {type:\"number\"}\n",
        "elif underlying_distribution == \"Bernoulli\":\n",
        "  p = 0.4 #@param {type:\"slider\", min:0, max:1, step:0.01}\n",
        "\n",
        "# Set sample size and gamma\n",
        "sample_size = 88 #@param {type:\"slider\", min:1, max:100, step:1}\n",
        "gamma = 0.99 #@param {type:\"slider\", min:0, max:1, step:0.01}\n",
        "sparsity = 0 #@param {type:\"slider\", min:0, max:30, step:1}\n",
        "\n",
        "# Generate the data for the underlying distribution\n",
        "iterations = 500\n",
        "n = sample_size * iterations\n",
        "if underlying_distribution == \"Skew-Normal\":\n",
        "  underlying_data = generate_skew_data(loc, scale, skewness, n)\n",
        "elif underlying_distribution == \"Bernoulli\":\n",
        "  underlying_data = generate_bernoulli_data(p, n)\n",
        "\n",
        "significance_level = 0.05 #@param {type:\"slider\", min:0.01, max:0.99, step:0.01}\n",
        "\n",
        "Q_values = calculate_Q_value_array(underlying_data, sample_size, gamma, sparsity, iterations)\n",
        "plot_distributions(underlying_data, Q_values)\n",
        "print_normality_tests(Q_values, significance_level)"
      ],
      "execution_count": 32,
      "outputs": [
        {
          "output_type": "stream",
          "text": [
            "Using Sample Size: 88 and Gamma: 0.99\n",
            "The following statistical tests yield:\n",
            "\n",
            "Shapiro-Wilk: Normal\n",
            "D'Agostino's K^2: Normal\n",
            "Anderson-Darling: Normal\n",
            "\n",
            "The statistical tests above use a 95.0% Confidence Interval\n",
            "\n"
          ],
          "name": "stdout"
        },
        {
          "output_type": "display_data",
          "data": {
            "image/png": "[encoded data removed]",
            "text/plain": [
              "<Figure size 432x288 with 1 Axes>"
            ]
          },
          "metadata": {
            "tags": [],
            "needs_background": "light"
          }
        }
      ]
    }
  ]
}